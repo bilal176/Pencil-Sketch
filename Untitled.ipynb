{
 "cells": [
  {
   "cell_type": "code",
   "execution_count": 1,
   "id": "4dd84a63",
   "metadata": {},
   "outputs": [],
   "source": [
    "import cv2"
   ]
  },
  {
   "cell_type": "code",
   "execution_count": 2,
   "id": "1a2b5c83",
   "metadata": {},
   "outputs": [],
   "source": [
    "image=cv2.imread(\"bilal2.jpg\")"
   ]
  },
  {
   "cell_type": "code",
   "execution_count": 3,
   "id": "25579126",
   "metadata": {},
   "outputs": [],
   "source": [
    "gray_image=cv2.cvtColor(image,cv2.COLOR_BGR2GRAY)"
   ]
  },
  {
   "cell_type": "code",
   "execution_count": 4,
   "id": "e1344b10",
   "metadata": {},
   "outputs": [
    {
     "data": {
      "text/plain": [
       "array([[11, 11, 11, ..., 11, 11, 11],\n",
       "       [11, 11, 11, ..., 11, 11, 11],\n",
       "       [11, 11, 11, ..., 11, 11, 11],\n",
       "       ...,\n",
       "       [11, 11, 11, ..., 11, 11, 11],\n",
       "       [11, 11, 11, ..., 11, 11, 11],\n",
       "       [11, 11, 11, ..., 11, 11, 11]], dtype=uint8)"
      ]
     },
     "execution_count": 4,
     "metadata": {},
     "output_type": "execute_result"
    }
   ],
   "source": [
    "gray_image"
   ]
  },
  {
   "cell_type": "code",
   "execution_count": 5,
   "id": "625acbb0",
   "metadata": {},
   "outputs": [],
   "source": [
    "inverted=255-gray_image"
   ]
  },
  {
   "cell_type": "code",
   "execution_count": 6,
   "id": "e0ca5384",
   "metadata": {},
   "outputs": [
    {
     "data": {
      "text/plain": [
       "array([[244, 244, 244, ..., 244, 244, 244],\n",
       "       [244, 244, 244, ..., 244, 244, 244],\n",
       "       [244, 244, 244, ..., 244, 244, 244],\n",
       "       ...,\n",
       "       [244, 244, 244, ..., 244, 244, 244],\n",
       "       [244, 244, 244, ..., 244, 244, 244],\n",
       "       [244, 244, 244, ..., 244, 244, 244]], dtype=uint8)"
      ]
     },
     "execution_count": 6,
     "metadata": {},
     "output_type": "execute_result"
    }
   ],
   "source": [
    "inverted"
   ]
  },
  {
   "cell_type": "code",
   "execution_count": 7,
   "id": "8af4888c",
   "metadata": {},
   "outputs": [],
   "source": [
    "blur=cv2.GaussianBlur(inverted,(21,21),0)"
   ]
  },
  {
   "cell_type": "code",
   "execution_count": 8,
   "id": "9c3809c4",
   "metadata": {},
   "outputs": [
    {
     "data": {
      "text/plain": [
       "array([[244, 244, 244, ..., 244, 244, 244],\n",
       "       [244, 244, 244, ..., 244, 244, 244],\n",
       "       [244, 244, 244, ..., 244, 244, 244],\n",
       "       ...,\n",
       "       [244, 244, 244, ..., 244, 244, 244],\n",
       "       [244, 244, 244, ..., 244, 244, 244],\n",
       "       [244, 244, 244, ..., 244, 244, 244]], dtype=uint8)"
      ]
     },
     "execution_count": 8,
     "metadata": {},
     "output_type": "execute_result"
    }
   ],
   "source": [
    "blur"
   ]
  },
  {
   "cell_type": "code",
   "execution_count": 9,
   "id": "051f8663",
   "metadata": {},
   "outputs": [],
   "source": [
    "invertedblur=255-blur"
   ]
  },
  {
   "cell_type": "code",
   "execution_count": 10,
   "id": "169b8b5e",
   "metadata": {},
   "outputs": [
    {
     "data": {
      "text/plain": [
       "array([[11, 11, 11, ..., 11, 11, 11],\n",
       "       [11, 11, 11, ..., 11, 11, 11],\n",
       "       [11, 11, 11, ..., 11, 11, 11],\n",
       "       ...,\n",
       "       [11, 11, 11, ..., 11, 11, 11],\n",
       "       [11, 11, 11, ..., 11, 11, 11],\n",
       "       [11, 11, 11, ..., 11, 11, 11]], dtype=uint8)"
      ]
     },
     "execution_count": 10,
     "metadata": {},
     "output_type": "execute_result"
    }
   ],
   "source": [
    "invertedblur"
   ]
  },
  {
   "cell_type": "code",
   "execution_count": 11,
   "id": "fa03ab5c",
   "metadata": {},
   "outputs": [],
   "source": [
    "sketch=cv2.divide(gray_image,invertedblur, scale=256.0)"
   ]
  },
  {
   "cell_type": "code",
   "execution_count": 12,
   "id": "2b8d6411",
   "metadata": {},
   "outputs": [
    {
     "data": {
      "text/plain": [
       "array([[255, 255, 255, ..., 255, 255, 255],\n",
       "       [255, 255, 255, ..., 255, 255, 255],\n",
       "       [255, 255, 255, ..., 255, 255, 255],\n",
       "       ...,\n",
       "       [255, 255, 255, ..., 255, 255, 255],\n",
       "       [255, 255, 255, ..., 255, 255, 255],\n",
       "       [255, 255, 255, ..., 255, 255, 255]], dtype=uint8)"
      ]
     },
     "execution_count": 12,
     "metadata": {},
     "output_type": "execute_result"
    }
   ],
   "source": [
    "sketch"
   ]
  },
  {
   "cell_type": "code",
   "execution_count": 13,
   "id": "4ef9a230",
   "metadata": {},
   "outputs": [
    {
     "data": {
      "text/plain": [
       "True"
      ]
     },
     "execution_count": 13,
     "metadata": {},
     "output_type": "execute_result"
    }
   ],
   "source": [
    "cv2.imwrite(\"bilal.png\",sketch)"
   ]
  },
  {
   "cell_type": "code",
   "execution_count": 15,
   "id": "5524c8c0",
   "metadata": {},
   "outputs": [],
   "source": [
    "cv2.imshow(\"image\",sketch)"
   ]
  },
  {
   "cell_type": "code",
   "execution_count": null,
   "id": "e51ba6b0",
   "metadata": {},
   "outputs": [],
   "source": []
  }
 ],
 "metadata": {
  "kernelspec": {
   "display_name": "Python 3 (ipykernel)",
   "language": "python",
   "name": "python3"
  },
  "language_info": {
   "codemirror_mode": {
    "name": "ipython",
    "version": 3
   },
   "file_extension": ".py",
   "mimetype": "text/x-python",
   "name": "python",
   "nbconvert_exporter": "python",
   "pygments_lexer": "ipython3",
   "version": "3.10.4"
  }
 },
 "nbformat": 4,
 "nbformat_minor": 5
}
